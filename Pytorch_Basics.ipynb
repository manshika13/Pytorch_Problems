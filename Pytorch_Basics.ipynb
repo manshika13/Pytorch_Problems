{
 "cells": [
  {
   "cell_type": "code",
   "execution_count": 1,
   "id": "106ecbba-ca36-4fb9-ba39-b6484107a3e0",
   "metadata": {},
   "outputs": [
    {
     "data": {
      "text/plain": [
       "tensor([[[0.5058, 0.1981, 0.1798, 0.2348, 0.7778, 0.7850, 0.4955, 0.4956,\n",
       "          0.4556, 0.0770],\n",
       "         [0.5084, 0.1841, 0.8663, 0.8344, 0.6098, 0.9528, 0.6096, 0.1527,\n",
       "          0.5497, 0.6133],\n",
       "         [0.0793, 0.9403, 0.7514, 0.0729, 0.3620, 0.4826, 0.7232, 0.5997,\n",
       "          0.9721, 0.2617],\n",
       "         [0.2841, 0.7887, 0.9953, 0.4904, 0.0560, 0.5294, 0.7778, 0.3848,\n",
       "          0.2378, 0.3666]],\n",
       "\n",
       "        [[0.6102, 0.0365, 0.7219, 0.8461, 0.6863, 0.2657, 0.6534, 0.1825,\n",
       "          0.1741, 0.5605],\n",
       "         [0.5030, 0.6430, 0.5626, 0.2603, 0.6914, 0.9438, 0.5782, 0.8067,\n",
       "          0.8769, 0.8105],\n",
       "         [0.7845, 0.2532, 0.0398, 0.8202, 0.9995, 0.5831, 0.9892, 0.2335,\n",
       "          0.3373, 0.7629],\n",
       "         [0.3957, 0.5218, 0.8153, 0.1642, 0.0400, 0.1746, 0.0830, 0.2835,\n",
       "          0.8718, 0.3446]],\n",
       "\n",
       "        [[0.6999, 0.8642, 0.6893, 0.2672, 0.9661, 0.1679, 0.6271, 0.3308,\n",
       "          0.9655, 0.5354],\n",
       "         [0.1024, 0.4074, 0.8258, 0.1741, 0.7000, 0.6345, 0.7817, 0.8893,\n",
       "          0.6688, 0.2031],\n",
       "         [0.9426, 0.6149, 0.0976, 0.0057, 0.4385, 0.0343, 0.9278, 0.2177,\n",
       "          0.5906, 0.7431],\n",
       "         [0.4570, 0.6841, 0.3025, 0.3854, 0.4630, 0.1079, 0.2536, 0.3778,\n",
       "          0.2578, 0.2838]]])"
      ]
     },
     "execution_count": 1,
     "metadata": {},
     "output_type": "execute_result"
    }
   ],
   "source": [
    "import torch\n",
    "randomtensor=torch.rand(3,4,10)\n",
    "randomtensor\n",
    "\n"
   ]
  },
  {
   "cell_type": "code",
   "execution_count": 2,
   "id": "3fa84ab8-a946-43d9-8571-eefb8012cd91",
   "metadata": {},
   "outputs": [
    {
     "data": {
      "text/plain": [
       "(torch.Size([3, 224, 224]), 3)"
      ]
     },
     "execution_count": 2,
     "metadata": {},
     "output_type": "execute_result"
    }
   ],
   "source": [
    "#Create a random tensor with similar shape to an image tensor\n",
    "image_tensor=torch.rand(size=(3,224,224))\n",
    "#using size is not necessary\n",
    "image_tensor.shape,image_tensor.ndim"
   ]
  },
  {
   "cell_type": "code",
   "execution_count": 3,
   "id": "43d0f0cb-2a6a-4c55-8cde-1fe073be85bd",
   "metadata": {},
   "outputs": [
    {
     "data": {
      "text/plain": [
       "tensor([[0., 0., 0., 0.],\n",
       "        [0., 0., 0., 0.],\n",
       "        [0., 0., 0., 0.]])"
      ]
     },
     "execution_count": 3,
     "metadata": {},
     "output_type": "execute_result"
    }
   ],
   "source": [
    "#tensor of zeroes and ones\n",
    "zero=torch.zeros(size=(3,4))\n",
    "zero"
   ]
  },
  {
   "cell_type": "code",
   "execution_count": 4,
   "id": "97af88ed-1391-43f9-a94f-7ac1fe1d4002",
   "metadata": {},
   "outputs": [],
   "source": [
    "##Matrix Multiplication\n",
    "#Two main ways of performing multiplication in neural networks "
   ]
  },
  {
   "cell_type": "code",
   "execution_count": 5,
   "id": "0439843c-436c-43ce-a748-c4592b5fe4bb",
   "metadata": {},
   "outputs": [
    {
     "name": "stdout",
     "output_type": "stream",
     "text": [
      "Previous Shape:torch.Size([224, 224, 3])\n",
      "Original Shape:torch.Size([3, 224, 224])\n"
     ]
    }
   ],
   "source": [
    "#torch.squeeze()=removes all single dimensions from a target tensor\n",
    "#torch.unsequeeze()=add a single dimension to a target tensor at a specific dim \n",
    "#x_unsqueezed=x_unsqueezed(dim=0)\n",
    "#torch.permute-rearrage the dimensions of a target \n",
    "\n",
    "x=torch.randn(2,3,5)\n",
    "x.size()\n",
    "torch.permute(x,(2,0,1)).size\n",
    "x_original=torch.rand(size=(224,224,3))#height,width,color channels\n",
    "#permute the original tensor \n",
    "x_permute=x_original.permute(2,0,1)#shift axis 0->1 1-->2 2-->0\n",
    "print(f\"Previous Shape:{x_original.shape}\")\n",
    "print(f\"Original Shape:{x_permute.shape}\")\n"
   ]
  },
  {
   "cell_type": "code",
   "execution_count": 6,
   "id": "14da6c9d-2e40-41fa-b0f5-2dffe669b102",
   "metadata": {},
   "outputs": [
    {
     "data": {
      "text/plain": [
       "(tensor([[[1, 2, 3],\n",
       "          [4, 5, 6],\n",
       "          [7, 8, 9]]]),\n",
       " torch.Size([1, 3, 3]))"
      ]
     },
     "execution_count": 6,
     "metadata": {},
     "output_type": "execute_result"
    }
   ],
   "source": [
    "##Indexing (select data from tensors)\n",
    "x=torch.arange(1,10).reshape(1,3,3)\n",
    "x,x.shape"
   ]
  },
  {
   "cell_type": "code",
   "execution_count": 7,
   "id": "a0d13b98-571f-4745-b4f8-ad85615114a5",
   "metadata": {},
   "outputs": [
    {
     "data": {
      "text/plain": [
       "tensor([[1, 2, 3],\n",
       "        [4, 5, 6],\n",
       "        [7, 8, 9]])"
      ]
     },
     "execution_count": 7,
     "metadata": {},
     "output_type": "execute_result"
    }
   ],
   "source": [
    "#lets index on our new tensor\n",
    "x[0]"
   ]
  },
  {
   "cell_type": "code",
   "execution_count": 8,
   "id": "611337ed-4458-475a-a65f-34697b4579e3",
   "metadata": {},
   "outputs": [
    {
     "data": {
      "text/plain": [
       "tensor([1, 2, 3])"
      ]
     },
     "execution_count": 8,
     "metadata": {},
     "output_type": "execute_result"
    }
   ],
   "source": [
    "x[0][0]"
   ]
  },
  {
   "cell_type": "code",
   "execution_count": 9,
   "id": "dd933c5f-3ad6-455b-8334-7239af3fb1fa",
   "metadata": {},
   "outputs": [
    {
     "data": {
      "text/plain": [
       "tensor(1)"
      ]
     },
     "execution_count": 9,
     "metadata": {},
     "output_type": "execute_result"
    }
   ],
   "source": [
    "x[0][0][0]"
   ]
  },
  {
   "cell_type": "code",
   "execution_count": 10,
   "id": "976160d2-1a13-4e7e-8d6d-4d989423e656",
   "metadata": {},
   "outputs": [
    {
     "data": {
      "text/plain": [
       "tensor(4)"
      ]
     },
     "execution_count": 10,
     "metadata": {},
     "output_type": "execute_result"
    }
   ],
   "source": [
    "x[0][1][0]"
   ]
  },
  {
   "cell_type": "code",
   "execution_count": null,
   "id": "c69068a9-2f86-4c33-b6f4-63716d395729",
   "metadata": {},
   "outputs": [],
   "source": []
  },
  {
   "cell_type": "code",
   "execution_count": 11,
   "id": "4deb2842-dff8-458c-b1f2-6a41576cc7e6",
   "metadata": {},
   "outputs": [
    {
     "data": {
      "text/plain": [
       "tensor(0.4735)"
      ]
     },
     "execution_count": 11,
     "metadata": {},
     "output_type": "execute_result"
    }
   ],
   "source": [
    "x_original[0,0,0]"
   ]
  },
  {
   "cell_type": "code",
   "execution_count": 12,
   "id": "72015fa9-264b-4458-aa17-080d8d628332",
   "metadata": {},
   "outputs": [
    {
     "data": {
      "text/plain": [
       "tensor([1, 2, 3])"
      ]
     },
     "execution_count": 12,
     "metadata": {},
     "output_type": "execute_result"
    }
   ],
   "source": [
    "x[0,0,:]"
   ]
  },
  {
   "cell_type": "code",
   "execution_count": 13,
   "id": "cfda0860-338c-47eb-be5b-c1ffc4313fde",
   "metadata": {},
   "outputs": [
    {
     "data": {
      "text/plain": [
       "tensor([[3, 6, 9]])"
      ]
     },
     "execution_count": 13,
     "metadata": {},
     "output_type": "execute_result"
    }
   ],
   "source": [
    "x[:,:,2]"
   ]
  },
  {
   "cell_type": "markdown",
   "id": "0542ecf7-cede-4e44-9628-ed9fe1bb823f",
   "metadata": {},
   "source": [
    "##Pytorch tensors and Numpy\n",
    "Numpy is a popular scientific Python numerical computing library\n",
    "and because of this , Pytorch has functionality to interact with it.\n",
    "Data in Numpy want in pytorch Tensor -> 'torch.from_numpy(ndarray)'\n",
    "Pytorch tensor->Numpy ->'torch.tensor.numpy()'"
   ]
  },
  {
   "cell_type": "code",
   "execution_count": 14,
   "id": "37cff8c5-fa05-47bf-a525-b48d10c67bb6",
   "metadata": {},
   "outputs": [
    {
     "data": {
      "text/plain": [
       "(array([1., 2., 3., 4., 5., 6., 7.]), tensor([1., 2., 3., 4., 5., 6., 7.]))"
      ]
     },
     "execution_count": 14,
     "metadata": {},
     "output_type": "execute_result"
    }
   ],
   "source": [
    "import numpy as np\n",
    "array=np.arange(1.0,8.0)\n",
    "tensor=torch.from_numpy(array).type(torch.float32)\n",
    "array,tensor"
   ]
  },
  {
   "cell_type": "code",
   "execution_count": 15,
   "id": "51c91981-b10a-4315-863c-7f97707f800b",
   "metadata": {},
   "outputs": [
    {
     "data": {
      "text/plain": [
       "dtype('float64')"
      ]
     },
     "execution_count": 15,
     "metadata": {},
     "output_type": "execute_result"
    }
   ],
   "source": [
    "array.dtype"
   ]
  },
  {
   "cell_type": "code",
   "execution_count": 16,
   "id": "5ccf3c6c-fb62-4f9a-b455-1b0a8bc2d1ca",
   "metadata": {},
   "outputs": [
    {
     "data": {
      "text/plain": [
       "torch.float32"
      ]
     },
     "execution_count": 16,
     "metadata": {},
     "output_type": "execute_result"
    }
   ],
   "source": [
    "torch.arange(1.0,8.0).dtype"
   ]
  },
  {
   "cell_type": "code",
   "execution_count": 17,
   "id": "a4df4735-12fd-4c86-ad95-c53e83dca91a",
   "metadata": {},
   "outputs": [
    {
     "data": {
      "text/plain": [
       "(array([2., 3., 4., 5., 6., 7., 8.]), tensor([1., 2., 3., 4., 5., 6., 7.]))"
      ]
     },
     "execution_count": 17,
     "metadata": {},
     "output_type": "execute_result"
    }
   ],
   "source": [
    "array=array+1\n",
    "array,tensor"
   ]
  },
  {
   "cell_type": "code",
   "execution_count": 18,
   "id": "1eff3701-1e0d-4f6b-933b-76e6951dcb5b",
   "metadata": {},
   "outputs": [
    {
     "data": {
      "text/plain": [
       "(tensor([1., 1., 1., 1., 1., 1., 1.]),\n",
       " array([1., 1., 1., 1., 1., 1., 1.], dtype=float32))"
      ]
     },
     "execution_count": 18,
     "metadata": {},
     "output_type": "execute_result"
    }
   ],
   "source": [
    "#3Tensor to numpy\n",
    "tensor=torch.ones(7)\n",
    "numpy_tensor=tensor.numpy()\n",
    "tensor,numpy_tensor"
   ]
  },
  {
   "cell_type": "code",
   "execution_count": 19,
   "id": "04d5e341-6779-4a0f-a1ec-97c6b096c74a",
   "metadata": {},
   "outputs": [
    {
     "data": {
      "text/plain": [
       "dtype('float32')"
      ]
     },
     "execution_count": 19,
     "metadata": {},
     "output_type": "execute_result"
    }
   ],
   "source": [
    "numpy_tensor.dtype"
   ]
  },
  {
   "cell_type": "code",
   "execution_count": 20,
   "id": "d838d5d9-85ab-47f6-b51b-79560e7acdae",
   "metadata": {},
   "outputs": [
    {
     "data": {
      "text/plain": [
       "(tensor([2., 2., 2., 2., 2., 2., 2.]),\n",
       " array([1., 1., 1., 1., 1., 1., 1.], dtype=float32))"
      ]
     },
     "execution_count": 20,
     "metadata": {},
     "output_type": "execute_result"
    }
   ],
   "source": [
    "#change the tensor ,what happen to numpy_tensor\n",
    "tensor=tensor+1\n",
    "tensor,numpy_tensor"
   ]
  },
  {
   "cell_type": "markdown",
   "id": "2bf384a5-5502-4d3c-9596-5d8ca04aead4",
   "metadata": {},
   "source": [
    "#Reproducbility(trying to take random out of random)\n",
    "In short our neural network learn start with random numberrs->tensor operations->update random numbers to try and makethem\n",
    "of the data->again->again->again\n",
    "To reduce the randomness in neural network and pytorch comes the concept of a random seed\n",
    "\n"
   ]
  },
  {
   "cell_type": "code",
   "execution_count": 21,
   "id": "1b9a3089-b558-4008-9d4d-5949c4007d4e",
   "metadata": {},
   "outputs": [
    {
     "data": {
      "text/plain": [
       "tensor([[0.9438, 0.6946, 0.8959],\n",
       "        [0.1375, 0.3904, 0.2595],\n",
       "        [0.6394, 0.9354, 0.4024]])"
      ]
     },
     "execution_count": 21,
     "metadata": {},
     "output_type": "execute_result"
    }
   ],
   "source": [
    "torch.rand(3,3)"
   ]
  },
  {
   "cell_type": "code",
   "execution_count": 22,
   "id": "870fb7f7-1a09-443c-b23a-ac29a7e132f9",
   "metadata": {},
   "outputs": [
    {
     "name": "stdout",
     "output_type": "stream",
     "text": [
      "tensor([[0.5348, 0.6365, 0.6953, 0.8109],\n",
      "        [0.8583, 0.5075, 0.9031, 0.7686],\n",
      "        [0.9814, 0.1897, 0.9483, 0.5160]])\n",
      "tensor([[0.9946, 0.9895, 0.4139, 0.2882],\n",
      "        [0.5050, 0.7216, 0.1662, 0.8623],\n",
      "        [0.6686, 0.3691, 0.8023, 0.8057]])\n",
      "tensor([[False, False, False, False],\n",
      "        [False, False, False, False],\n",
      "        [False, False, False, False]])\n"
     ]
    }
   ],
   "source": [
    "#create two random tensors\n",
    "random_tensor_A=torch.rand(3,4)\n",
    "random_tensor_B=torch.rand(3,4)\n",
    "print(random_tensor_A)\n",
    "print(random_tensor_B)\n",
    "print(random_tensor_A==random_tensor_B)\n"
   ]
  },
  {
   "cell_type": "code",
   "execution_count": 23,
   "id": "d06d5beb-e02d-4aef-a382-1e020af5d3e6",
   "metadata": {},
   "outputs": [
    {
     "name": "stdout",
     "output_type": "stream",
     "text": [
      "tensor([[0.8823, 0.9150, 0.3829, 0.9593],\n",
      "        [0.3904, 0.6009, 0.2566, 0.7936],\n",
      "        [0.9408, 0.1332, 0.9346, 0.5936]])\n",
      "tensor([[0.8823, 0.9150, 0.3829, 0.9593],\n",
      "        [0.3904, 0.6009, 0.2566, 0.7936],\n",
      "        [0.9408, 0.1332, 0.9346, 0.5936]])\n",
      "tensor([[True, True, True, True],\n",
      "        [True, True, True, True],\n",
      "        [True, True, True, True]])\n"
     ]
    }
   ],
   "source": [
    "#Lets make random but reproducable tensor\n",
    "Random_seed=42\n",
    "torch.manual_seed(Random_seed)\n",
    "random_tensor_C=torch.rand(3,4)\n",
    "# its only work for the one block of code\n",
    "\n",
    "torch.manual_seed(Random_seed)\n",
    "random_tensor_D=torch.rand(3,4)\n",
    "print(random_tensor_C)\n",
    "print(random_tensor_D)\n",
    "print(random_tensor_C==random_tensor_D)"
   ]
  },
  {
   "cell_type": "code",
   "execution_count": 25,
   "id": "53820bfe-769d-4f29-a5bd-cea788152ac2",
   "metadata": {},
   "outputs": [
    {
     "name": "stdout",
     "output_type": "stream",
     "text": [
      "CUDA available:  False\n"
     ]
    },
    {
     "ename": "RuntimeError",
     "evalue": "Found no NVIDIA driver on your system. Please check that you have an NVIDIA GPU and installed a driver from http://www.nvidia.com/Download/index.aspx",
     "output_type": "error",
     "traceback": [
      "\u001b[0;31m---------------------------------------------------------------------------\u001b[0m",
      "\u001b[0;31mRuntimeError\u001b[0m                              Traceback (most recent call last)",
      "Cell \u001b[0;32mIn[25], line 3\u001b[0m\n\u001b[1;32m      1\u001b[0m \u001b[38;5;66;03m#Running tensors and pytorchs object on gpu\u001b[39;00m\n\u001b[1;32m      2\u001b[0m \u001b[38;5;28mprint\u001b[39m(\u001b[38;5;124m\"\u001b[39m\u001b[38;5;124mCUDA available: \u001b[39m\u001b[38;5;124m\"\u001b[39m, torch\u001b[38;5;241m.\u001b[39mcuda\u001b[38;5;241m.\u001b[39mis_available())\n\u001b[0;32m----> 3\u001b[0m \u001b[38;5;28mprint\u001b[39m(\u001b[38;5;124m\"\u001b[39m\u001b[38;5;124mGPU device name:\u001b[39m\u001b[38;5;124m\"\u001b[39m, \u001b[43mtorch\u001b[49m\u001b[38;5;241;43m.\u001b[39;49m\u001b[43mcuda\u001b[49m\u001b[38;5;241;43m.\u001b[39;49m\u001b[43mget_device_name\u001b[49m\u001b[43m(\u001b[49m\u001b[38;5;241;43m0\u001b[39;49m\u001b[43m)\u001b[49m)\n",
      "File \u001b[0;32m~/myenv/lib/python3.12/site-packages/torch/cuda/__init__.py:493\u001b[0m, in \u001b[0;36mget_device_name\u001b[0;34m(device)\u001b[0m\n\u001b[1;32m    481\u001b[0m \u001b[38;5;28;01mdef\u001b[39;00m \u001b[38;5;21mget_device_name\u001b[39m(device: Optional[_device_t] \u001b[38;5;241m=\u001b[39m \u001b[38;5;28;01mNone\u001b[39;00m) \u001b[38;5;241m-\u001b[39m\u001b[38;5;241m>\u001b[39m \u001b[38;5;28mstr\u001b[39m:\n\u001b[1;32m    482\u001b[0m \u001b[38;5;250m    \u001b[39m\u001b[38;5;124mr\u001b[39m\u001b[38;5;124;03m\"\"\"Get the name of a device.\u001b[39;00m\n\u001b[1;32m    483\u001b[0m \n\u001b[1;32m    484\u001b[0m \u001b[38;5;124;03m    Args:\u001b[39;00m\n\u001b[0;32m   (...)\u001b[0m\n\u001b[1;32m    491\u001b[0m \u001b[38;5;124;03m        str: the name of the device\u001b[39;00m\n\u001b[1;32m    492\u001b[0m \u001b[38;5;124;03m    \"\"\"\u001b[39;00m\n\u001b[0;32m--> 493\u001b[0m     \u001b[38;5;28;01mreturn\u001b[39;00m \u001b[43mget_device_properties\u001b[49m\u001b[43m(\u001b[49m\u001b[43mdevice\u001b[49m\u001b[43m)\u001b[49m\u001b[38;5;241m.\u001b[39mname\n",
      "File \u001b[0;32m~/myenv/lib/python3.12/site-packages/torch/cuda/__init__.py:523\u001b[0m, in \u001b[0;36mget_device_properties\u001b[0;34m(device)\u001b[0m\n\u001b[1;32m    513\u001b[0m \u001b[38;5;28;01mdef\u001b[39;00m \u001b[38;5;21mget_device_properties\u001b[39m(device: _device_t) \u001b[38;5;241m-\u001b[39m\u001b[38;5;241m>\u001b[39m _CudaDeviceProperties:\n\u001b[1;32m    514\u001b[0m \u001b[38;5;250m    \u001b[39m\u001b[38;5;124mr\u001b[39m\u001b[38;5;124;03m\"\"\"Get the properties of a device.\u001b[39;00m\n\u001b[1;32m    515\u001b[0m \n\u001b[1;32m    516\u001b[0m \u001b[38;5;124;03m    Args:\u001b[39;00m\n\u001b[0;32m   (...)\u001b[0m\n\u001b[1;32m    521\u001b[0m \u001b[38;5;124;03m        _CudaDeviceProperties: the properties of the device\u001b[39;00m\n\u001b[1;32m    522\u001b[0m \u001b[38;5;124;03m    \"\"\"\u001b[39;00m\n\u001b[0;32m--> 523\u001b[0m     \u001b[43m_lazy_init\u001b[49m\u001b[43m(\u001b[49m\u001b[43m)\u001b[49m  \u001b[38;5;66;03m# will define _get_device_properties\u001b[39;00m\n\u001b[1;32m    524\u001b[0m     device \u001b[38;5;241m=\u001b[39m _get_device_index(device, optional\u001b[38;5;241m=\u001b[39m\u001b[38;5;28;01mTrue\u001b[39;00m)\n\u001b[1;32m    525\u001b[0m     \u001b[38;5;28;01mif\u001b[39;00m device \u001b[38;5;241m<\u001b[39m \u001b[38;5;241m0\u001b[39m \u001b[38;5;129;01mor\u001b[39;00m device \u001b[38;5;241m>\u001b[39m\u001b[38;5;241m=\u001b[39m device_count():\n",
      "File \u001b[0;32m~/myenv/lib/python3.12/site-packages/torch/cuda/__init__.py:319\u001b[0m, in \u001b[0;36m_lazy_init\u001b[0;34m()\u001b[0m\n\u001b[1;32m    317\u001b[0m \u001b[38;5;28;01mif\u001b[39;00m \u001b[38;5;124m\"\u001b[39m\u001b[38;5;124mCUDA_MODULE_LOADING\u001b[39m\u001b[38;5;124m\"\u001b[39m \u001b[38;5;129;01mnot\u001b[39;00m \u001b[38;5;129;01min\u001b[39;00m os\u001b[38;5;241m.\u001b[39menviron:\n\u001b[1;32m    318\u001b[0m     os\u001b[38;5;241m.\u001b[39menviron[\u001b[38;5;124m\"\u001b[39m\u001b[38;5;124mCUDA_MODULE_LOADING\u001b[39m\u001b[38;5;124m\"\u001b[39m] \u001b[38;5;241m=\u001b[39m \u001b[38;5;124m\"\u001b[39m\u001b[38;5;124mLAZY\u001b[39m\u001b[38;5;124m\"\u001b[39m\n\u001b[0;32m--> 319\u001b[0m \u001b[43mtorch\u001b[49m\u001b[38;5;241;43m.\u001b[39;49m\u001b[43m_C\u001b[49m\u001b[38;5;241;43m.\u001b[39;49m\u001b[43m_cuda_init\u001b[49m\u001b[43m(\u001b[49m\u001b[43m)\u001b[49m\n\u001b[1;32m    320\u001b[0m \u001b[38;5;66;03m# Some of the queued calls may reentrantly call _lazy_init();\u001b[39;00m\n\u001b[1;32m    321\u001b[0m \u001b[38;5;66;03m# we need to just return without initializing in that case.\u001b[39;00m\n\u001b[1;32m    322\u001b[0m \u001b[38;5;66;03m# However, we must not let any *other* threads in!\u001b[39;00m\n\u001b[1;32m    323\u001b[0m _tls\u001b[38;5;241m.\u001b[39mis_initializing \u001b[38;5;241m=\u001b[39m \u001b[38;5;28;01mTrue\u001b[39;00m\n",
      "\u001b[0;31mRuntimeError\u001b[0m: Found no NVIDIA driver on your system. Please check that you have an NVIDIA GPU and installed a driver from http://www.nvidia.com/Download/index.aspx"
     ]
    }
   ],
   "source": [
    "#Running tensors and pytorchs object on gpu\n",
    "print(\"CUDA available: \", torch.cuda.is_available())\n",
    "print(\"GPU device name:\", torch.cuda.get_device_name(0))"
   ]
  },
  {
   "cell_type": "code",
   "execution_count": null,
   "id": "1f2c985e-ee4f-4527-932c-98c4d224fd02",
   "metadata": {},
   "outputs": [],
   "source": []
  }
 ],
 "metadata": {
  "kernelspec": {
   "display_name": "Python 3 (ipykernel)",
   "language": "python",
   "name": "python3"
  },
  "language_info": {
   "codemirror_mode": {
    "name": "ipython",
    "version": 3
   },
   "file_extension": ".py",
   "mimetype": "text/x-python",
   "name": "python",
   "nbconvert_exporter": "python",
   "pygments_lexer": "ipython3",
   "version": "3.12.4"
  }
 },
 "nbformat": 4,
 "nbformat_minor": 5
}
